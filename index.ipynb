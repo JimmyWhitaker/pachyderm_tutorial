{
 "cells": [
  {
   "cell_type": "code",
   "execution_count": null,
   "metadata": {},
   "outputs": [],
   "source": [
    "%load_ext autoreload\n",
    "%autoreload 2"
   ]
  },
  {
   "cell_type": "code",
   "execution_count": null,
   "metadata": {},
   "outputs": [],
   "source": [
    "#hide\n",
    "from pachyderm_tutorial.utils import *\n",
    "import python_pachyderm"
   ]
  },
  {
   "cell_type": "markdown",
   "metadata": {},
   "source": [
    "# Pachyderm Tutorial\n",
    "\n",
    "> This is a repo for a Pachyderm tutorial"
   ]
  },
  {
   "cell_type": "markdown",
   "metadata": {},
   "source": [
    "This file will become your README and also the index of your documentation."
   ]
  },
  {
   "cell_type": "markdown",
   "metadata": {},
   "source": [
    "## Install"
   ]
  },
  {
   "cell_type": "markdown",
   "metadata": {},
   "source": [
    "1. Create a free Pachyderm cluster on [Pachyderm Hub](https://hub.pachyderm.com/).\n",
    "\n",
    "2. Connect to JupyterHub in the cluster\n",
    "\n",
    "3. Clone this repo "
   ]
  },
  {
   "cell_type": "markdown",
   "metadata": {},
   "source": [
    "`pip install pachyderm_tutorial`"
   ]
  },
  {
   "cell_type": "markdown",
   "metadata": {},
   "source": [
    "## Pachyderm File System Basics"
   ]
  },
  {
   "cell_type": "markdown",
   "metadata": {},
   "source": [
    "Create a Pachyderm data repository called `data`"
   ]
  },
  {
   "cell_type": "code",
   "execution_count": null,
   "metadata": {},
   "outputs": [
    {
     "name": "stdout",
     "output_type": "stream",
     "text": [
      "COMPONENT           VERSION             \n",
      "pachctl             1.13.0              \n",
      "pachd               1.12.5              \n"
     ]
    }
   ],
   "source": [
    "!pachctl version"
   ]
  },
  {
   "cell_type": "code",
   "execution_count": null,
   "metadata": {},
   "outputs": [],
   "source": [
    "!pachctl create repo data"
   ]
  },
  {
   "cell_type": "code",
   "execution_count": null,
   "metadata": {},
   "outputs": [
    {
     "name": "stdout",
     "output_type": "stream",
     "text": [
      "NAME CREATED      SIZE (MASTER) ACCESS LEVEL \n",
      "data 1 second ago 0B            OWNER         \n"
     ]
    }
   ],
   "source": [
    "!pachctl list repo"
   ]
  },
  {
   "cell_type": "markdown",
   "metadata": {},
   "source": [
    "When we list our repos, we can see that we have an empty data repository, with no data in it. So let's add some data."
   ]
  },
  {
   "cell_type": "code",
   "execution_count": null,
   "metadata": {},
   "outputs": [
    {
     "name": "stdout",
     "output_type": "stream",
     "text": [
      "Writing iris.csv\n"
     ]
    }
   ],
   "source": [
    "%%writefile iris.csv\n",
    "5.1,3.5,1.4,0.2,Iris-setosa\n",
    "4.9,3.0,1.4,0.2,Iris-setosa\n",
    "4.7,3.2,1.3,0.2,Iris-setosa\n",
    "4.6,3.1,1.5,0.2,Iris-setosa\n",
    "7.0,3.2,4.7,1.4,Iris-versicolor\n",
    "6.4,3.2,4.5,1.5,Iris-versicolor\n",
    "6.9,3.1,4.9,1.5,Iris-versicolor\n",
    "5.5,2.3,4.0,1.3,Iris-versicolor\n",
    "6.3,3.3,6.0,2.5,Iris-virginica\n",
    "5.8,2.7,5.1,1.9,Iris-virginica\n",
    "7.1,3.0,5.9,2.1,Iris-virginica\n",
    "6.3,2.9,5.6,1.8,Iris-virginica"
   ]
  },
  {
   "cell_type": "markdown",
   "metadata": {},
   "source": [
    "Data repositories in Pachyderm automatically track versions of the data placed in  them. Similar to Git, we organize our data via branches, so we will push our data to the `master` branch of our `data` repository."
   ]
  },
  {
   "cell_type": "code",
   "execution_count": null,
   "metadata": {},
   "outputs": [
    {
     "name": "stdout",
     "output_type": "stream",
     "text": [
      "iris.csv 364.00b / 364.00 b [======================================] 0s 0.00 b/s\n",
      "\u001b[1A\u001b[Jiris.csv 364.00b / 364.00 b [======================================] 0s 0.00 b/s\n",
      "\u001b[1A\u001b[Jiris.csv 364.00b / 364.00 b [======================================] 0s 0.00 b/s\n",
      "\u001b[1A\u001b[Jiris.csv 364.00b / 364.00 b [======================================] 0s 0.00 b/s\n",
      "\u001b[1A\u001b[Jiris.csv 364.00b / 364.00 b [======================================] 0s 0.00 b/s\n",
      "\u001b[1A\u001b[Jiris.csv 364.00b / 364.00 b [======================================] 0s 0.00 b/s\n",
      "\u001b[1A\u001b[Jiris.csv 364.00b / 364.00 b [======================================] 0s 0.00 b/s\n",
      "\u001b[1A\u001b[Jiris.csv 364.00b / 364.00 b [======================================] 0s 0.00 b/s\n",
      "\u001b[1A\u001b[Jiris.csv 364.00b / 364.00 b [======================================] 0s 0.00 b/s\n",
      "\u001b[1A\u001b[Jiris.csv 364.00b / 364.00 b [======================================] 0s 0.00 b/s\n",
      "\u001b[1A\u001b[Jiris.csv 364.00b / 364.00 b [======================================] 0s 0.00 b/s\n",
      "\u001b[1A\u001b[Jiris.csv 364.00b / 364.00 b [======================================] 0s 0.00 b/s\n",
      "\u001b[1A\u001b[Jiris.csv 364.00b / 364.00 b [======================================] 0s 0.00 b/s\n",
      "\u001b[1A\u001b[Jiris.csv 364.00b / 364.00 b [======================================] 0s 0.00 b/s\n"
     ]
    }
   ],
   "source": [
    "!pachctl put file data@master -f iris.csv"
   ]
  },
  {
   "cell_type": "markdown",
   "metadata": {},
   "source": [
    "We can look at the data that's been uploaded to our `data` repository, by listing the files on the master branch."
   ]
  },
  {
   "cell_type": "code",
   "execution_count": null,
   "metadata": {},
   "outputs": [
    {
     "name": "stdout",
     "output_type": "stream",
     "text": [
      "NAME      TYPE SIZE \n",
      "/iris.csv file 364B \n"
     ]
    }
   ],
   "source": [
    "!pachctl list file data@master"
   ]
  },
  {
   "cell_type": "markdown",
   "metadata": {},
   "source": [
    "Similarly, if we want to delete our file we can do that as well. "
   ]
  },
  {
   "cell_type": "code",
   "execution_count": null,
   "metadata": {},
   "outputs": [],
   "source": [
    "!pachctl delete file data@master:/iris.csv"
   ]
  },
  {
   "cell_type": "code",
   "execution_count": null,
   "metadata": {},
   "outputs": [
    {
     "name": "stdout",
     "output_type": "stream",
     "text": [
      "NAME TYPE SIZE \n"
     ]
    }
   ],
   "source": [
    "!pachctl list file data@master"
   ]
  },
  {
   "cell_type": "markdown",
   "metadata": {},
   "source": [
    "Now let's add it back again. "
   ]
  },
  {
   "cell_type": "code",
   "execution_count": null,
   "metadata": {},
   "outputs": [
    {
     "name": "stdout",
     "output_type": "stream",
     "text": [
      "iris.csv 364.00b / 364.00 b [======================================] 0s 0.00 b/s\n",
      "\u001b[1A\u001b[Jiris.csv 364.00b / 364.00 b [======================================] 0s 0.00 b/s\n",
      "\u001b[1A\u001b[Jiris.csv 364.00b / 364.00 b [======================================] 0s 0.00 b/s\n",
      "\u001b[1A\u001b[Jiris.csv 364.00b / 364.00 b [======================================] 0s 0.00 b/s\n",
      "\u001b[1A\u001b[Jiris.csv 364.00b / 364.00 b [======================================] 0s 0.00 b/s\n",
      "\u001b[1A\u001b[Jiris.csv 364.00b / 364.00 b [======================================] 0s 0.00 b/s\n",
      "\u001b[1A\u001b[Jiris.csv 364.00b / 364.00 b [======================================] 0s 0.00 b/s\n",
      "\u001b[1A\u001b[Jiris.csv 364.00b / 364.00 b [======================================] 0s 0.00 b/s\n"
     ]
    }
   ],
   "source": [
    "!pachctl put file data@master -f iris.csv"
   ]
  },
  {
   "cell_type": "markdown",
   "metadata": {},
   "source": [
    "Now we can list all of the commits that have been made to our repository to see the history of the `master` branch."
   ]
  },
  {
   "cell_type": "code",
   "execution_count": null,
   "metadata": {},
   "outputs": [
    {
     "name": "stdout",
     "output_type": "stream",
     "text": [
      "REPO BRANCH COMMIT                           FINISHED       SIZE PROGRESS DESCRIPTION\n",
      "data master be040bd068fb4e67ae59cd2f40bb2a0c 16 minutes ago 364B -         \n",
      "data master 44e71eeb040e4453a13014c22c9a80ed 17 minutes ago 0B   -         \n",
      "data master 4670ab8ce78e4306a5789144f30b4afd 20 minutes ago 364B -         \n"
     ]
    }
   ],
   "source": [
    "!pachctl list commit data"
   ]
  },
  {
   "cell_type": "markdown",
   "metadata": {},
   "source": [
    "Pachyderm keeps a record of all the changes that happen to the `data` repository. This way if we ever want to revert to a previous version of our dataset, we can do it. \n",
    "\n",
    "For example, if we wanted to change move the head of our `master` branch to the first commit, we could run the following command (note the commit hashes will be different if you are running this yourself): "
   ]
  },
  {
   "cell_type": "code",
   "execution_count": null,
   "metadata": {},
   "outputs": [],
   "source": [
    "!pachctl create branch data@master --head 4670ab8ce78e4306a5789144f30b4afd"
   ]
  },
  {
   "cell_type": "code",
   "execution_count": null,
   "metadata": {},
   "outputs": [
    {
     "name": "stdout",
     "output_type": "stream",
     "text": [
      "BRANCH HEAD                             TRIGGER \n",
      "master 4670ab8ce78e4306a5789144f30b4afd -       \n"
     ]
    }
   ],
   "source": [
    "!pachctl list branch data"
   ]
  },
  {
   "cell_type": "markdown",
   "metadata": {},
   "source": [
    "We can also use [Ancestry Syntax](https://docs.pachyderm.com/latest/concepts/data-concepts/history/#ancestry-syntax) to traverse commits. `^` for the parent of the commit or we can reference the commits in numerical order using `.n`, where `n` is the commit number. "
   ]
  },
  {
   "cell_type": "code",
   "execution_count": null,
   "metadata": {},
   "outputs": [],
   "source": [
    "# Reset the head of our master branch\n",
    "!pachctl create branch data@master --head be040bd068fb4e67ae59cd2f40bb2a0c"
   ]
  },
  {
   "cell_type": "code",
   "execution_count": null,
   "metadata": {},
   "outputs": [
    {
     "name": "stdout",
     "output_type": "stream",
     "text": [
      "REPO BRANCH COMMIT                           FINISHED       SIZE PROGRESS DESCRIPTION\n",
      "data master 44e71eeb040e4453a13014c22c9a80ed 17 minutes ago 0B   -         \n",
      "data master 4670ab8ce78e4306a5789144f30b4afd 21 minutes ago 364B -         \n"
     ]
    }
   ],
   "source": [
    "# Previous commit to the head of the master branch\n",
    "!pachctl list commit data@master^"
   ]
  },
  {
   "cell_type": "code",
   "execution_count": null,
   "metadata": {},
   "outputs": [
    {
     "name": "stdout",
     "output_type": "stream",
     "text": [
      "REPO BRANCH COMMIT                           FINISHED       SIZE PROGRESS DESCRIPTION\n",
      "data master 4670ab8ce78e4306a5789144f30b4afd 21 minutes ago 364B -         \n"
     ]
    }
   ],
   "source": [
    "# First commit to the master branch\n",
    "!pachctl list commit data@master.1"
   ]
  },
  {
   "cell_type": "code",
   "execution_count": null,
   "metadata": {},
   "outputs": [
    {
     "name": "stdout",
     "output_type": "stream",
     "text": [
      "REPO BRANCH COMMIT                           FINISHED       SIZE PROGRESS DESCRIPTION\n",
      "data master 44e71eeb040e4453a13014c22c9a80ed 17 minutes ago 0B   -         \n",
      "data master 4670ab8ce78e4306a5789144f30b4afd 21 minutes ago 364B -         \n"
     ]
    }
   ],
   "source": [
    "!pachctl list commit data@master.-1"
   ]
  },
  {
   "cell_type": "code",
   "execution_count": null,
   "metadata": {},
   "outputs": [
    {
     "name": "stdout",
     "output_type": "stream",
     "text": [
      "BRANCH HEAD                             TRIGGER \n",
      "master be040bd068fb4e67ae59cd2f40bb2a0c -       \n"
     ]
    }
   ],
   "source": [
    "!pachctl list branch data"
   ]
  },
  {
   "cell_type": "markdown",
   "metadata": {},
   "source": [
    "## Pachyderm Pipeline System Basics"
   ]
  },
  {
   "cell_type": "markdown",
   "metadata": {},
   "source": [
    "Pachyderm also lets you create code pipelines that can be triggered by your data. These pipelines connect to your data repositories, ensuring that they run anytime your data is updated."
   ]
  },
  {
   "cell_type": "markdown",
   "metadata": {},
   "source": [
    "Here is an example of a Pachyderm pipeline. "
   ]
  },
  {
   "cell_type": "code",
   "execution_count": null,
   "metadata": {},
   "outputs": [
    {
     "name": "stdout",
     "output_type": "stream",
     "text": [
      "Writing count.yaml\n"
     ]
    }
   ],
   "source": [
    "%%writefile count.yaml\n",
    "pipeline:\n",
    "  name: count\n",
    "description: Count the number of lines in a csv file\n",
    "input:\n",
    "  pfs:\n",
    "    glob: /\n",
    "    repo: data\n",
    "transform:\n",
    "  cmd: ['/bin/sh']\n",
    "  stdin: ['wc -l /pfs/data/iris.csv > /pfs/out/line_count.txt']\n",
    "  image: alpine:3.14.0"
   ]
  },
  {
   "cell_type": "markdown",
   "metadata": {},
   "source": [
    "When our pipeline runs, it will map the data from our `data` repository into the container that's running our pipeline. It will also automatically create a new data repository to hold and version our output(s). "
   ]
  },
  {
   "cell_type": "markdown",
   "metadata": {},
   "source": [
    "We can submit our pipeline to Pachyderm by using the `create pipeline` command."
   ]
  },
  {
   "cell_type": "code",
   "execution_count": null,
   "metadata": {},
   "outputs": [],
   "source": [
    "!pachctl create pipeline -f count.yaml"
   ]
  },
  {
   "cell_type": "markdown",
   "metadata": {},
   "source": [
    "If we list our pipelines, we can see the  status of them."
   ]
  },
  {
   "cell_type": "code",
   "execution_count": null,
   "metadata": {},
   "outputs": [
    {
     "name": "stdout",
     "output_type": "stream",
     "text": [
      "NAME  VERSION INPUT  CREATED        STATE / LAST JOB  DESCRIPTION                             \n",
      "count 1       data:/ 15 seconds ago \u001b[32mrunning\u001b[0m / \u001b[32msuccess\u001b[0m Count the number of lines in a csv file \n"
     ]
    }
   ],
   "source": [
    "!pachctl list pipeline"
   ]
  },
  {
   "cell_type": "markdown",
   "metadata": {},
   "source": [
    "It looks like our pipeline failed, so let's inspect it and see why."
   ]
  },
  {
   "cell_type": "code",
   "execution_count": null,
   "metadata": {},
   "outputs": [
    {
     "name": "stdout",
     "output_type": "stream",
     "text": [
      "ID                               PIPELINE STARTED       DURATION  RESTART PROGRESS  DL   UL  STATE   \n",
      "9bd27e46d1b64bd0bde16acefa5dff15 count    4 seconds ago 2 seconds 0       1 + 0 / 1 364B 22B \u001b[32msuccess\u001b[0m \n"
     ]
    }
   ],
   "source": [
    "!pachctl list job --pipeline=count"
   ]
  },
  {
   "cell_type": "markdown",
   "metadata": {},
   "source": [
    "We can inspect the logs for the pipeline to see what went wrong. (Note there are 3 [tries](https://docs.pachyderm.com/latest/reference/pipeline_spec/#datum-tries-optional) here.)"
   ]
  },
  {
   "cell_type": "code",
   "execution_count": null,
   "metadata": {},
   "outputs": [
    {
     "name": "stdout",
     "output_type": "stream",
     "text": [
      "NAME            TYPE SIZE \n",
      "/line_count.txt file 22B  \n"
     ]
    }
   ],
   "source": [
    "!pachctl list file count@master"
   ]
  },
  {
   "cell_type": "code",
   "execution_count": null,
   "metadata": {},
   "outputs": [
    {
     "name": "stdout",
     "output_type": "stream",
     "text": [
      "./line_count.txt 0.00b / 22.00 b [---------------------------------] 0s 0.00 b/s\n",
      "\u001b[1A\u001b[J./line_count.txt 22.00b / 22.00 b [================================] 0s 0.00 b/s\n",
      "\u001b[1A\u001b[J./line_count.txt 22.00b / 22.00 b [================================] 0s 0.00 b/s\n",
      "\u001b[1A\u001b[J./line_count.txt 22.00b / 22.00 b [================================] 0s 0.00 b/s\n"
     ]
    }
   ],
   "source": [
    "!pachctl get file count@master:/line_count.txt -o ./line_count.txt"
   ]
  },
  {
   "cell_type": "code",
   "execution_count": null,
   "metadata": {},
   "outputs": [
    {
     "name": "stdout",
     "output_type": "stream",
     "text": [
      "12 /pfs/data/iris.csv\n"
     ]
    }
   ],
   "source": [
    "cat line_count.txt"
   ]
  },
  {
   "cell_type": "code",
   "execution_count": null,
   "metadata": {},
   "outputs": [],
   "source": []
  },
  {
   "cell_type": "code",
   "execution_count": null,
   "metadata": {},
   "outputs": [],
   "source": []
  },
  {
   "cell_type": "code",
   "execution_count": null,
   "metadata": {},
   "outputs": [],
   "source": []
  },
  {
   "cell_type": "markdown",
   "metadata": {},
   "source": [
    "## Python-Pachyderm"
   ]
  },
  {
   "cell_type": "markdown",
   "metadata": {},
   "source": [
    "Create a client to connect to the Pachyderm clutser."
   ]
  },
  {
   "cell_type": "code",
   "execution_count": null,
   "metadata": {},
   "outputs": [],
   "source": [
    "# client = python_pachyderm.Client.new_from_config()"
   ]
  },
  {
   "cell_type": "code",
   "execution_count": null,
   "metadata": {},
   "outputs": [
    {
     "data": {
      "text/plain": []
     },
     "execution_count": null,
     "metadata": {},
     "output_type": "execute_result"
    }
   ],
   "source": [
    "# client.create_repo('python-data')"
   ]
  },
  {
   "cell_type": "code",
   "execution_count": null,
   "metadata": {},
   "outputs": [],
   "source": [
    "# with client.commit(\"python-data\", \"master\") as commit:\n",
    "#     client.put_file_bytes(commit, \"/dir_a/data.txt\", b\"DATA\")"
   ]
  },
  {
   "cell_type": "code",
   "execution_count": null,
   "metadata": {},
   "outputs": [],
   "source": []
  },
  {
   "cell_type": "code",
   "execution_count": null,
   "metadata": {},
   "outputs": [
    {
     "name": "stdout",
     "output_type": "stream",
     "text": [
      "Converted 00_utils.ipynb.\n",
      "Converted index.ipynb.\n"
     ]
    }
   ],
   "source": [
    "#hide\n",
    "from nbdev.export import notebook2script; \n",
    "notebook2script()"
   ]
  }
 ],
 "metadata": {
  "kernelspec": {
   "display_name": "Python 3",
   "language": "python",
   "name": "python3"
  }
 },
 "nbformat": 4,
 "nbformat_minor": 4
}
